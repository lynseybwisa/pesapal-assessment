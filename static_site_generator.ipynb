{
  "nbformat": 4,
  "nbformat_minor": 0,
  "metadata": {
    "colab": {
      "provenance": [],
      "authorship_tag": "ABX9TyNgFWHRrYUQD/i+H8uKUDF1",
      "include_colab_link": true
    },
    "kernelspec": {
      "name": "python3",
      "display_name": "Python 3"
    },
    "language_info": {
      "name": "python"
    }
  },
  "cells": [
    {
      "cell_type": "markdown",
      "metadata": {
        "id": "view-in-github",
        "colab_type": "text"
      },
      "source": [
        "<a href=\"https://colab.research.google.com/github/lynseybwisa/pesapal-assessment/blob/develop/static_site_generator.ipynb\" target=\"_parent\"><img src=\"https://colab.research.google.com/assets/colab-badge.svg\" alt=\"Open In Colab\"/></a>"
      ]
    },
    {
      "cell_type": "markdown",
      "source": [
        "First, we need to import the necessary libraries, such as os for interacting with the file system, markdown for converting Markdown to HTML and webbrowser for displaying the generated website."
      ],
      "metadata": {
        "id": "VrCxGFg40_e5"
      }
    },
    {
      "cell_type": "code",
      "execution_count": null,
      "metadata": {
        "id": "4GWIf8op0uZy"
      },
      "outputs": [],
      "source": [
        "import os\n",
        "import markdown\n",
        "import webbrowser\n"
      ]
    },
    {
      "cell_type": "markdown",
      "source": [
        "Next, we'll define a function that takes a directory path as an argument and converts all the Markdown files in that directory to HTML. We'll use the os.listdir() function to get a list of all the files in the directory, and then use a for loop to iterate over the list and convert each file to HTML using the markdown.markdown() function."
      ],
      "metadata": {
        "id": "NhsJvaes1CRR"
      }
    },
    {
      "cell_type": "code",
      "source": [
        "def generate_html(directory):\n",
        "    for filename in os.listdir(directory):\n",
        "        if filename.endswith('.md'):\n",
        "            file_path = os.path.join(directory, filename)\n",
        "            with open(file_path, 'r') as file:\n",
        "                markdown_text = file.read()\n",
        "            html = markdown.markdown(markdown_text)\n",
        "            # write the html to a file\n",
        "            with open(file_path.replace('.md', '.html'), 'w') as file:\n",
        "                file.write(html)\n"
      ],
      "metadata": {
        "id": "9PFkm43V05Ja"
      },
      "execution_count": null,
      "outputs": []
    },
    {
      "cell_type": "markdown",
      "source": [
        "Next, we'll create the templates for our homepage, articles and supporting pages. We can use Jinja2 or other template engines for this. We can also create a base template for all pages, and then extend the base template for specific pages."
      ],
      "metadata": {
        "id": "hOQGThWr1JmB"
      }
    },
    {
      "cell_type": "markdown",
      "source": [
        "Now we'll create a function that takes the template and the html generated from markdown file as an argument and return the final html by rendering the template with the markdown html as context."
      ],
      "metadata": {
        "id": "fKhV9TQP1MYo"
      }
    },
    {
      "cell_type": "code",
      "source": [
        "def render_template(template_name, context):\n",
        "    # use jinja2 or other template engine to render the template\n",
        "    # with the context and return the final html\n",
        "    pass\n",
        "\n"
      ],
      "metadata": {
        "id": "hWWnzAu-1OuY"
      },
      "execution_count": null,
      "outputs": []
    },
    {
      "cell_type": "markdown",
      "source": [
        "Finally, we'll create a main function that ties everything together. This function will take the directory containing the Markdown files as an argument, call the generate_html() function to convert the Markdown to HTML, call the render_template() function to create the final HTML pages, and then use the webbrowser.open() function to open the homepage of the generated website in the default web browser."
      ],
      "metadata": {
        "id": "7m4LpdQ61TJ4"
      }
    },
    {
      "cell_type": "code",
      "source": [
        "def main(directory):\n",
        "    generate_html(directory)\n",
        "    # render the template with the generated html\n",
        "    # and write the final html to file\n",
        "    index_html_path = os.path.join(directory, 'index.html')\n",
        "    webbrowser.open(index_html_path)\n"
      ],
      "metadata": {
        "id": "0SNO7yiT1T9o"
      },
      "execution_count": null,
      "outputs": []
    },
    {
      "cell_type": "markdown",
      "source": [
        "Now we can call the main function with the directory path as the argument, and the static site will be generated in the same directory."
      ],
      "metadata": {
        "id": "DvkwFHh41YrQ"
      }
    },
    {
      "cell_type": "code",
      "source": [
        "if __name__ == '__main__':\n",
        "    main('path/to/markdown/files')\n"
      ],
      "metadata": {
        "id": "_JxDGBq61ZbY"
      },
      "execution_count": null,
      "outputs": []
    }
  ]
}