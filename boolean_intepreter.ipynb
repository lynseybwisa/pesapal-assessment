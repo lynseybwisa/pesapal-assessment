{
  "nbformat": 4,
  "nbformat_minor": 0,
  "metadata": {
    "colab": {
      "provenance": [],
      "authorship_tag": "ABX9TyOYDjoKrnmLP8YtdN7l9YQc",
      "include_colab_link": true
    },
    "kernelspec": {
      "name": "python3",
      "display_name": "Python 3"
    },
    "language_info": {
      "name": "python"
    }
  },
  "cells": [
    {
      "cell_type": "markdown",
      "metadata": {
        "id": "view-in-github",
        "colab_type": "text"
      },
      "source": [
        "<a href=\"https://colab.research.google.com/github/lynseybwisa/pesapal-assessment/blob/develop/boolean_intepreter.ipynb\" target=\"_parent\"><img src=\"https://colab.research.google.com/assets/colab-badge.svg\" alt=\"Open In Colab\"/></a>"
      ]
    },
    {
      "cell_type": "markdown",
      "source": [
        "First, we'll define a class Evaluator that will have methods for parsing and evaluating the expressions."
      ],
      "metadata": {
        "id": "k1AOSvXu5KNy"
      }
    },
    {
      "cell_type": "markdown",
      "source": [
        "In this step, we are creating a class Evaluator that will have a dictionary of variables as its property."
      ],
      "metadata": {
        "id": "5x5AdcqW8BO5"
      }
    },
    {
      "cell_type": "markdown",
      "source": [
        "The assign_variable method is used to store the value of a variable in the variables dictionary. This method takes two arguments, name and value, and assigns the value to the variable name and stores it in the variables dictionary."
      ],
      "metadata": {
        "id": "_Sk72A5S-TPF"
      }
    },
    {
      "cell_type": "code",
      "source": [
        "class Evaluator:\n",
        "    def __init__(self):\n",
        "        self.variables = {}\n",
        "\n",
        "    def parse(self, expression):\n",
        "        # Define regular expressions for the different types of tokens\n",
        "        variable_regex = r'[a-zA-Z_][a-zA-Z_0-9]*'\n",
        "        operator_regex = r'(?<![a-zA-Z_0-9])or(?![a-zA-Z_0-9])|(?<![a-zA-Z_0-9])and(?![a-zA-Z_0-9])|(?<![a-zA-Z_0-9])not(?![a-zA-Z_0-9])|(?<![a-zA-Z_0-9])let(?![a-zA-Z_0-9])|='\n",
        "        value_regex = r'True|False'\n",
        "        parens_regex = r'\\(|\\)'\n",
        "\n",
        "        # Use the regular expressions to find all the tokens in the expression\n",
        "        tokens = re.findall(f\"{variable_regex}|{operator_regex}|{value_regex}|{parens_regex}\", expression)\n",
        "\n",
        "        # Use the tokens to build a parse tree\n",
        "        parse_tree = self.build_parse_tree(tokens)\n",
        "        return parse_tree\n",
        "\n",
        "    def evaluate(self, parse_tree):\n",
        "        # Define a recursive function to traverse the parse tree\n",
        "        def eval_node(node):\n",
        "            # Check the type of node\n",
        "            if node[0] == \"VARIABLE\":\n",
        "                # If the node is a variable, return its value\n",
        "                return self.get_variable(node[1])\n",
        "            elif node[0] == \"VALUE\":\n",
        "                # If the node is a value (True or False), return it\n",
        "                return node[1]\n",
        "            elif node[0] == \"NOT\":\n",
        "                # If the node is a NOT operator, return the negation of the child node\n",
        "                return not eval_node(node[1])\n",
        "            elif node[0] == \"AND\":\n",
        "                # If the node is an AND operator, return the conjunction of the child nodes\n",
        "                return eval_node(node[1]) and eval_node(node[2])\n",
        "            elif node[0] == \"OR\":\n",
        "                # If the node is an OR operator, return the disjunction of the child nodes\n",
        "                return eval_node(node[1]) or eval_node(node[2])\n",
        "            elif node[0] == \"LET\":\n",
        "                # If the node is a let statement, assign the value of the expression to the variable\n",
        "                self.assign_variable(node[1], eval_node(node[3]))\n",
        "            else:\n",
        "                raise ValueError(\"Invalid node type\")\n",
        "\n",
        "    def assign_variable(self, name, value):\n",
        "        \"\"\"\n",
        "        Assigns a value to a variable and stores it in the variables dictionary.\n",
        "        :param name: The name of the variable to be assigned.\n",
        "        :param value: The value of the variable to be assigned.\n",
        "        \"\"\"\n",
        "        # Store the value of the variable in the variables dictionary\n",
        "        self.variables[name] = value\n"
      ],
      "metadata": {
        "id": "DvH0l9AP5Lib"
      },
      "execution_count": 19,
      "outputs": []
    },
    {
      "cell_type": "markdown",
      "source": [
        "Next, we'll define the lexer using the ply.lex library. The lexer will tokenize the input expression and identify the different parts of the expression such as operators, variables, and values."
      ],
      "metadata": {
        "id": "vmD9q-fF4pLA"
      }
    },
    {
      "cell_type": "code",
      "execution_count": 20,
      "metadata": {
        "id": "YfEa55ks4mcd"
      },
      "outputs": [],
      "source": [
        "    def create_lexer(self):\n",
        "        self.lexer = lex.lex(module=self, optimize=1)\n",
        "    tokens = ['AND', 'OR', 'NOT', 'TRUE', 'FALSE', 'LPAREN', 'RPAREN', 'ASSIGN', 'VARIABLE']\n",
        "    t_ignore = ' \\t'\n",
        "    t_ASSIGN = r'='\n",
        "    t_LPAREN = r'\\('\n",
        "    t_RPAREN = r'\\)'\n",
        "    t_NOT = r'¬'\n",
        "    t_AND = r'∧'\n",
        "    t_OR = r'∨'\n",
        "    t_TRUE = r'T'\n",
        "    t_FALSE = r'F'\n",
        "    def t_VARIABLE(self, t):\n",
        "        r'[a-zA-Z_][a-zA-Z0-9_]*'\n",
        "        if t.value in self.variables:\n",
        "            t.value = self.variables[t.value]\n",
        "        return t\n"
      ]
    },
    {
      "cell_type": "markdown",
      "source": [
        "Next, we'll define the parser using the ply.yacc library. The parser will take the tokenized input from the lexer and build a parse tree. It will also evaluate the expression based on the operator precedence and the values of the variables.\n"
      ],
      "metadata": {
        "id": "TKlmdZYR5ZfH"
      }
    },
    {
      "cell_type": "markdown",
      "source": [
        "Define a parse() method that uses regular expressions or a lexer/parser to break down the expression into tokens and build a parse tree."
      ],
      "metadata": {
        "id": "msRAVCPS8K0I"
      }
    },
    {
      "cell_type": "markdown",
      "source": [
        "This method will be used to parse the given expressions, this can be done by using regular expressions or a lexer/parser."
      ],
      "metadata": {
        "id": "TPXdC_Pg8RPo"
      }
    },
    {
      "cell_type": "code",
      "source": [
        "     def parse(self, expression):\n",
        "        # Define regular expressions for the different types of tokens\n",
        "        variable_regex = r'[a-zA-Z_][a-zA-Z_0-9]*'\n",
        "        operator_regex = r'(?<![a-zA-Z_0-9])or(?![a-zA-Z_0-9])|(?<![a-zA-Z_0-9])and(?![a-zA-Z_0-9])|(?<![a-zA-Z_0-9])not(?![a-zA-Z_0-9])|(?<![a-zA-Z_0-9])let(?![a-zA-Z_0-9])|='\n",
        "        value_regex = r'True|False'\n",
        "        parens_regex = r'\\(|\\)'\n",
        "\n",
        "        # Use the regular expressions to find all the tokens in the expression\n",
        "        tokens = re.findall(f\"{variable_regex}|{operator_regex}|{value_regex}|{parens_regex}\", expression)\n",
        "\n",
        "        # Use the tokens to build a parse tree\n",
        "        parse_tree = self.build_parse_tree(tokens)\n",
        "        return parse_tree\n"
      ],
      "metadata": {
        "id": "UTmwTrjU5cTX"
      },
      "execution_count": 21,
      "outputs": []
    },
    {
      "cell_type": "code",
      "source": [
        "def evaluate(self, parse_tree):\n",
        "        # traverse the parse tree and evaluate the expression based on the rules of Boolean logic\n",
        "        pass"
      ],
      "metadata": {
        "id": "MFXrOMVN8hDh"
      },
      "execution_count": 22,
      "outputs": []
    },
    {
      "cell_type": "code",
      "source": [
        "def assign_variable(self, name, value):\n",
        "        self.variables[name] = value"
      ],
      "metadata": {
        "id": "X5coQybL8kq6"
      },
      "execution_count": 23,
      "outputs": []
    },
    {
      "cell_type": "code",
      "source": [
        "def get_variable(self, name):\n",
        "        if name in self.variables:\n",
        "            return self.variables[name]\n",
        "        else:\n",
        "            raise ValueError(\"Undefined variable '{}'\".format(name))\n"
      ],
      "metadata": {
        "id": "HKYV39oZ8oOh"
      },
      "execution_count": 24,
      "outputs": []
    },
    {
      "cell_type": "code",
      "source": [
        "evaluator = Evaluator()"
      ],
      "metadata": {
        "id": "xrvkxwIG8rhM"
      },
      "execution_count": 25,
      "outputs": []
    },
    {
      "cell_type": "code",
      "source": [
        "def get_variable(self, name):\n",
        "        # Retrieve the value of the variable from the variables dictionary\n",
        "        # If the variable is not defined, raise an error\n",
        "        if name in self.variables:\n",
        "            return self.variables[name]\n",
        "        else:\n",
        "            raise ValueError(\"Undefined variable '{}'\".format(name))"
      ],
      "metadata": {
        "id": "q9OWZfg89Btq"
      },
      "execution_count": 26,
      "outputs": []
    }
  ]
}